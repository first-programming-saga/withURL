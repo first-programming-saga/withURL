{
  "cells": [
    {
      "cell_type": "code",
      "execution_count": null,
      "metadata": {
        "trusted": true
      },
      "outputs": [],
      "source": [
        "import requests\n",
        "from bs4 import BeautifulSoup\n",
        "import re"
      ]
    },
    {
      "cell_type": "code",
      "execution_count": null,
      "metadata": {
        "trusted": true
      },
      "outputs": [],
      "source": [
        "def getSoup(url:str) -> BeautifulSoup|None:\n",
        "    try:\n",
        "        with requests.get(url,timeout=3) as f:\n",
        "            f.encoding='utf-8'\n",
        "        text = f.text\n",
        "    except:\n",
        "        return  None\n",
        "    doc:BeautifulSoup = BeautifulSoup(text,\"html.parser\")\n",
        "    return doc"
      ]
    },
    {
      "cell_type": "code",
      "execution_count": null,
      "metadata": {
        "trusted": true
      },
      "outputs": [],
      "source": [
        "def extractH1(doc:BeautifulSoup) -> list[str]:\n",
        "    out:list[str]=[]\n",
        "    out.append('h1 headers')\n",
        "    for h in doc.find_all(re.compile('[hH]1')):\n",
        "        out.append(h.text)\n",
        "    return out"
      ]
    },
    {
      "cell_type": "code",
      "execution_count": null,
      "metadata": {
        "trusted": true
      },
      "outputs": [],
      "source": [
        "def extractHREF(doc:BeautifulSoup) -> list[str]:\n",
        "    out:list[str]=[]\n",
        "    out.append('hyper links')\n",
        "    for anchor in doc.find_all('a'):\n",
        "        out.append(anchor.get('href'))\n",
        "    return out"
      ]
    },
    {
      "cell_type": "code",
      "execution_count": null,
      "metadata": {
        "trusted": true
      },
      "outputs": [],
      "source": [
        "def extractListItems(doc:BeautifulSoup) -> list[str]:\n",
        "    out:list[str]=[]\n",
        "    out.append('list items')\n",
        "    for ul in doc.find_all('ul'):\n",
        "        out.append('------')\n",
        "        for li in ul.find_all('li'):\n",
        "            out.append('* '+li.text)\n",
        "    return out"
      ]
    },
    {
      "cell_type": "code",
      "execution_count": null,
      "metadata": {
        "trusted": true
      },
      "outputs": [],
      "source": [
        "url = 'https://www.cc.saga-u.ac.jp'\n",
        "doc:BeautifulSoup|None = getSoup(url)\n",
        "if doc:\n",
        "    out:list[str] = extractH1(doc)\n",
        "#    extractHREF(doc)\n",
        "#    out = extractListItems(doc)\n",
        "    for e in out:\n",
        "        print(e)"
      ]
    }
  ],
  "metadata": {
    "kernelspec": {
      "display_name": "myenv",
      "language": "python",
      "name": "python3"
    },
    "language_info": {
      "codemirror_mode": {
        "name": "ipython",
        "version": 3
      },
      "file_extension": ".py",
      "mimetype": "text/x-python",
      "name": "python",
      "nbconvert_exporter": "python",
      "pygments_lexer": "ipython3",
      "version": "3.12.1"
    }
  },
  "nbformat": 4,
  "nbformat_minor": 2
}
