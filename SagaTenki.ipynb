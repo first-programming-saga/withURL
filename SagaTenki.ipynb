{
  "cells": [
    {
      "metadata": {},
      "cell_type": "markdown",
      "source": [
        "# 佐賀市の天気のページを分析"
      ]
    },
    {
      "metadata": {
        "trusted": true
      },
      "cell_type": "code",
      "source": [
        "import pandas\n",
        "import matplotlib.pyplot as plt"
      ],
      "execution_count": null,
      "outputs": []
    },
    {
      "metadata": {
        "trusted": true
      },
      "cell_type": "code",
      "source": [
        "columnTypes={'Time':'int32','Temperature':'float32','Precipitation':'float32',\n",
        "             'WindSpeed':'float32','SunshineDuration':'float32',\n",
        "             'Humidity':'float32','Pressure':'float32','WindDirection':'object'}"
      ],
      "execution_count": null,
      "outputs": []
    },
    {
      "metadata": {
        "trusted": true,
        "tags": []
      },
      "cell_type": "code",
      "source": [
        "url = 'https://www.jma.go.jp/en/amedas_h/today-85142.html'\n",
        "dataFrames = pandas.io.html.read_html(url,header=0)\n",
        "df0 = dataFrames[4].drop(0)\n",
        "print(df0.columns)\n",
        "df = df0.astype(columnTypes)\n",
        "df.set_index('Time',inplace = True)\n",
        "df"
      ],
      "execution_count": null,
      "outputs": []
    },
    {
      "metadata": {
        "trusted": true
      },
      "cell_type": "code",
      "source": [],
      "execution_count": null,
      "outputs": []
    }
  ],
  "metadata": {
    "kernelspec": {
      "name": "python_defaultSpec_1595818361019",
      "display_name": "Python 3.7.1 64-bit",
      "language": "python"
    },
    "language_info": {
      "mimetype": "text/x-python",
      "nbconvert_exporter": "python",
      "name": "python",
      "pygments_lexer": "ipython3",
      "version": "3.6.6",
      "file_extension": ".py",
      "codemirror_mode": {
        "version": 3,
        "name": "ipython"
      }
    }
  },
  "nbformat": 4,
  "nbformat_minor": 2
}