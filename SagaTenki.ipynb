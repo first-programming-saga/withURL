{
  "cells": [
    {
      "cell_type": "code",
      "execution_count": null,
      "metadata": {
        "trusted": true
      },
      "outputs": [],
      "source": [
        "import pandas\n",
        "import numpy\n",
        "import matplotlib.pyplot as plt\n",
        "import japanize_matplotlib\n",
        "import re"
      ]
    },
    {
      "cell_type": "code",
      "execution_count": null,
      "metadata": {},
      "outputs": [],
      "source": [
        "#最高気温\n",
        "url = 'http://www.data.jma.go.jp/obd/stats/etrn/view/monthly_s3.php?'\n",
        "url += 'prec_no=85&block_no=47813&year=&month=&day=&view=a2'\n",
        "#最低気温\n",
        "#url = 'http://www.data.jma.go.jp/obd/stats/etrn/view/monthly_s3.php?prec_no=85&block_no=47813&year=&month=&day=&view=a3'"
      ]
    },
    {
      "cell_type": "code",
      "execution_count": null,
      "metadata": {},
      "outputs": [],
      "source": [
        "pattern: re.Pattern[str] = re.compile(r'([-]*\\d+\\.\\d*)\\D*')\n",
        "def cleanSeries(serIn:pandas.Series) -> pandas.Series:\n",
        "    \"\"\"\n",
        "    列データに含まれる、数値以外の文字を除く\n",
        "    \"\"\"\n",
        "    ser:pandas.Series = serIn.copy()\n",
        "    for k in ser.index:\n",
        "        v = ser[k]\n",
        "        if type(v) is str:\n",
        "            m: re.Match[str] | None = pattern.match(v)\n",
        "            if m:\n",
        "                v = m.group(1)\n",
        "        ser[k]=numpy.float64(str(v))\n",
        "    return ser"
      ]
    },
    {
      "cell_type": "code",
      "execution_count": null,
      "metadata": {
        "tags": [],
        "trusted": true
      },
      "outputs": [],
      "source": [
        "dataFrames :list[pandas.DataFrame]= pandas.read_html(url)\n",
        "df :pandas.DataFrame= dataFrames[0].drop('年の値', axis = 1)\n",
        "df.set_index('年', inplace = True)\n",
        "ser :pandas.Series= df.loc[2011]#type:ignore\n",
        "for k in ser.index:\n",
        "    v = ser[k]\n",
        "    print(v,type(v))\n",
        "ser = cleanSeries(ser)\n",
        "print()\n",
        "for k in ser.index:\n",
        "    v = ser[k]\n",
        "    print(v,type(v))"
      ]
    }
  ],
  "metadata": {
    "interpreter": {
      "hash": "63fd5069d213b44bf678585dea6b12cceca9941eaf7f819626cde1f2670de90d"
    },
    "kernelspec": {
      "display_name": "Python 3.9.6 64-bit",
      "name": "python3"
    },
    "language_info": {
      "codemirror_mode": {
        "name": "ipython",
        "version": 3
      },
      "file_extension": ".py",
      "mimetype": "text/x-python",
      "name": "python",
      "nbconvert_exporter": "python",
      "pygments_lexer": "ipython3",
      "version": "3.11.7"
    }
  },
  "nbformat": 4,
  "nbformat_minor": 2
}
