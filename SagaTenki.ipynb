{
  "cells": [
    {
      "cell_type": "code",
      "execution_count": 1,
      "metadata": {
        "trusted": true
      },
      "outputs": [],
      "source": [
        "import pandas\n",
        "import numpy\n",
        "import matplotlib.pyplot as plt\n",
        "import japanize_matplotlib\n",
        "import re"
      ]
    },
    {
      "cell_type": "code",
      "execution_count": 5,
      "metadata": {},
      "outputs": [],
      "source": [
        "#最高気温\n",
        "url = 'http://www.data.jma.go.jp/obd/stats/etrn/view/monthly_s3.php?'\n",
        "url += 'prec_no=85&block_no=47813&year=&month=&day=&view=a2'\n",
        "#最低気温\n",
        "#url = 'http://www.data.jma.go.jp/obd/stats/etrn/view/monthly_s3.php?prec_no=85&block_no=47813&year=&month=&day=&view=a3'"
      ]
    },
    {
      "cell_type": "code",
      "execution_count": 6,
      "metadata": {},
      "outputs": [],
      "source": [
        "pat = re.compile(r'([-]*\\d+\\.\\d*)\\D*')\n",
        "def cleanSeries(serIn:pandas.Series) -> pandas.Series:\n",
        "    \"\"\"\n",
        "    列データに含まれる、数値以外の文字を除く\n",
        "    \"\"\"\n",
        "    ser = serIn.copy()\n",
        "    for k in ser.index:\n",
        "        v = ser[k]\n",
        "        if type(v) is str:\n",
        "            m = pat.match(v)\n",
        "            if m:\n",
        "                v = m.group(1)\n",
        "        ser[k]=numpy.float64(v)\n",
        "    return ser"
      ]
    },
    {
      "cell_type": "code",
      "execution_count": 7,
      "metadata": {
        "tags": [],
        "trusted": true
      },
      "outputs": [
        {
          "name": "stdout",
          "output_type": "stream",
          "text": [
            "6.7 <class 'numpy.float64'>\n",
            "13.4 <class 'numpy.float64'>\n",
            "13.4 <class 'str'>\n",
            "19.9 <class 'numpy.float64'>\n",
            "24.7 <class 'numpy.float64'>\n",
            "27.3 <class 'numpy.float64'>\n",
            "32.2 <class 'numpy.float64'>\n",
            "32.8 ) <class 'str'>\n",
            "30.0 <class 'numpy.float64'>\n",
            "23.5 <class 'numpy.float64'>\n",
            "20.3 <class 'numpy.float64'>\n",
            "11.6 <class 'numpy.float64'>\n",
            "\n",
            "6.7 <class 'numpy.float64'>\n",
            "13.4 <class 'numpy.float64'>\n",
            "13.4 <class 'numpy.float64'>\n",
            "19.9 <class 'numpy.float64'>\n",
            "24.7 <class 'numpy.float64'>\n",
            "27.3 <class 'numpy.float64'>\n",
            "32.2 <class 'numpy.float64'>\n",
            "32.8 <class 'numpy.float64'>\n",
            "30.0 <class 'numpy.float64'>\n",
            "23.5 <class 'numpy.float64'>\n",
            "20.3 <class 'numpy.float64'>\n",
            "11.6 <class 'numpy.float64'>\n"
          ]
        }
      ],
      "source": [
        "dataFrames = pandas.read_html(url)\n",
        "df = dataFrames[0].drop('年の値', axis = 1)\n",
        "df.set_index('年', inplace = True)\n",
        "ser = df.loc[2011]\n",
        "for k in ser.index:\n",
        "    v = ser[k]\n",
        "    print(v,type(v))\n",
        "ser = cleanSeries(ser)\n",
        "print()\n",
        "for k in ser.index:\n",
        "    v = ser[k]\n",
        "    print(v,type(v))"
      ]
    }
  ],
  "metadata": {
    "interpreter": {
      "hash": "63fd5069d213b44bf678585dea6b12cceca9941eaf7f819626cde1f2670de90d"
    },
    "kernelspec": {
      "display_name": "Python 3.9.6 64-bit",
      "name": "python3"
    },
    "language_info": {
      "codemirror_mode": {
        "name": "ipython",
        "version": 3
      },
      "file_extension": ".py",
      "mimetype": "text/x-python",
      "name": "python",
      "nbconvert_exporter": "python",
      "pygments_lexer": "ipython3",
      "version": "3.10.2"
    }
  },
  "nbformat": 4,
  "nbformat_minor": 2
}
