{
  "cells": [
    {
      "cell_type": "code",
      "execution_count": null,
      "metadata": {
        "trusted": true
      },
      "outputs": [],
      "source": [
        "import pandas\n",
        "import numpy\n",
        "import matplotlib.pyplot as plt\n",
        "import japanize_matplotlib\n",
        "import re"
      ]
    },
    {
      "cell_type": "code",
      "execution_count": null,
      "metadata": {},
      "outputs": [],
      "source": [
        "#最高気温\n",
        "url = 'http://www.data.jma.go.jp/obd/stats/etrn/view/monthly_s3.php?'\n",
        "url += 'prec_no=85&block_no=47813&year=&month=&day=&view=a2'\n",
        "#最低気温\n",
        "#url = 'http://www.data.jma.go.jp/obd/stats/etrn/view/monthly_s3.php?prec_no=85&block_no=47813&year=&month=&day=&view=a3'"
      ]
    },
    {
      "cell_type": "code",
      "execution_count": null,
      "metadata": {},
      "outputs": [],
      "source": [
        "pat = re.compile(r'([-]*\\d+\\.\\d*)\\D*')\n",
        "def cleanSeries(serIn:pandas.Series) -> pandas.Series:\n",
        "    \"\"\"\n",
        "    列データに含まれる、数値以外の文字を除く\n",
        "    \"\"\"\n",
        "    ser = serIn.copy()\n",
        "    for k in ser.index:\n",
        "        v = ser[k]\n",
        "        if type(v) is str:\n",
        "            m = pat.match(v)\n",
        "            if m:\n",
        "                v = m.group(1)\n",
        "        ser[k]=numpy.float64(v)\n",
        "    return ser"
      ]
    }
  ],
  "metadata": {
    "interpreter": {
      "hash": "63fd5069d213b44bf678585dea6b12cceca9941eaf7f819626cde1f2670de90d"
    },
    "kernelspec": {
      "display_name": "Python 3.9.6 64-bit",
      "name": "python3"
    },
    "language_info": {
      "codemirror_mode": {
        "name": "ipython",
        "version": 3
      },
      "file_extension": ".py",
      "mimetype": "text/x-python",
      "name": "python",
      "nbconvert_exporter": "python",
      "pygments_lexer": "ipython3",
      "version": "3.10.2"
    }
  },
  "nbformat": 4,
  "nbformat_minor": 2
}
