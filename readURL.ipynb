{
  "cells": [
    {
      "cell_type": "markdown",
      "metadata": {},
      "source": [
        "## Webページの内容を取得する"
      ]
    },
    {
      "cell_type": "code",
      "execution_count": 1,
      "metadata": {
        "trusted": true
      },
      "outputs": [],
      "source": [
        "import requests\n",
        "import sys"
      ]
    },
    {
      "cell_type": "code",
      "execution_count": 2,
      "metadata": {
        "trusted": true
      },
      "outputs": [],
      "source": [
        "def getHTML(url:str) -> str|None:\n",
        "    \"\"\"\n",
        "    指定されたURLの中身を取得する関数。取得したテキストを返す。\n",
        "    \"\"\"\n",
        "    try:\n",
        "        with requests.get(url,timeout=3) as f:\n",
        "            f.encoding='utf-8'\n",
        "            text = f.text\n",
        "    except:# 正常に取得できなかった場合は、Noneを返す\n",
        "        text = None\n",
        "    return text"
      ]
    },
    {
      "cell_type": "code",
      "execution_count": 3,
      "metadata": {
        "trusted": true
      },
      "outputs": [],
      "source": [
        "def output2File(text:str,filename:str)->None:\n",
        "    \"\"\"\n",
        "    指定されたテキストを指定されたファイルに書きこむ関数\n",
        "    \"\"\"\n",
        "    try:\n",
        "        with open(filename,'w',encoding='utf-8') as f:\n",
        "            for line in text:\n",
        "                f.write(line)\n",
        "    except:\n",
        "        print(f'Error: {filename}に書き込めません',file=sys.stderr)"
      ]
    },
    {
      "cell_type": "markdown",
      "metadata": {},
      "source": [
        "以下の部分から開始する"
      ]
    },
    {
      "cell_type": "code",
      "execution_count": 4,
      "metadata": {
        "trusted": true
      },
      "outputs": [],
      "source": [
        "url = 'https://www.jma.go.jp/jp/amedas_h/today-85142.html'\n",
        "text :str|None = getHTML(url)\n",
        "if text is None:\n",
        "    print('fail to get html',file=sys.stderr)\n",
        "else:\n",
        "    output2File(text,'out.html')"
      ]
    }
  ],
  "metadata": {
    "kernelspec": {
      "display_name": "myenv",
      "language": "python",
      "name": "python3"
    },
    "language_info": {
      "codemirror_mode": {
        "name": "ipython",
        "version": 3
      },
      "file_extension": ".py",
      "mimetype": "text/x-python",
      "name": "python",
      "nbconvert_exporter": "python",
      "pygments_lexer": "ipython3",
      "version": "3.11.7"
    }
  },
  "nbformat": 4,
  "nbformat_minor": 2
}
