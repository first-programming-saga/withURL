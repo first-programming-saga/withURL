{
  "cells": [
    {
      "cell_type": "code",
      "execution_count": null,
      "source": [],
      "outputs": [],
      "metadata": {}
    },
    {
      "cell_type": "markdown",
      "source": [
        "# 佐賀市の最高気温ページを分析"
      ],
      "metadata": {}
    },
    {
      "cell_type": "code",
      "execution_count": null,
      "source": [
        "import numpy\n",
        "import pandas\n",
        "import matplotlib.pyplot as plt\n",
        "import japanize_matplotlib\n",
        "import re"
      ],
      "outputs": [],
      "metadata": {
        "trusted": true
      }
    },
    {
      "cell_type": "code",
      "execution_count": null,
      "source": [
        "url = 'http://www.data.jma.go.jp/obd/stats/etrn/view/monthly_s3.php?prec_no=85&block_no=47813&year=&month=&day=&elm=monthly&view=a2'"
      ],
      "outputs": [],
      "metadata": {
        "trusted": true
      }
    },
    {
      "cell_type": "code",
      "execution_count": null,
      "source": [
        "#pat = re.compile(r'(\\S*)\\s')\n",
        "pat = re.compile(r'(\\d*\\.\\d*)\\D')\n",
        "def cleanSeries(ser):  \n",
        "    for k in ser.index:\n",
        "        v = ser[k]\n",
        "        if type(v) is str:\n",
        "            if ' ' in ser[k]:\n",
        "                m = pat.match(v)\n",
        "                v = m.group(0)\n",
        "            ser[k]=numpy.float64(v)"
      ],
      "outputs": [],
      "metadata": {}
    },
    {
      "cell_type": "code",
      "execution_count": null,
      "source": [
        "\n",
        "dataFrames = pandas.read_html(url)\n",
        "df = dataFrames[0].drop('年の値',axis='columns')\n",
        "df.set_index('年', inplace = True)\n",
        "\n",
        "plt.figure(figsize = (15, 10))\n",
        "plt.rcParams[\"font.size\"] = 32\n",
        "plt.title('佐賀市の最高気温')\n",
        "plt.xlim(0, 11)\n",
        "plt.ylim(0, 40)\n",
        "plt.xticks(ticks = [0, 1, 2, 3, 4, 5, 6, 7, 8, 9, 10, 11])\n",
        "\n",
        "year = 2010\n",
        "ser = df.loc[year]\n",
        "cleanSeries(ser)\n",
        "ser.plot(label = str(year),linewidth = 3)\n",
        "\n",
        "plt.legend(loc = 'best')\n",
        "plt.savefig('SagaTemperature.pdf')\n",
        "plt.show()"
      ],
      "outputs": [],
      "metadata": {
        "trusted": true,
        "tags": []
      }
    },
    {
      "cell_type": "code",
      "execution_count": null,
      "source": [],
      "outputs": [],
      "metadata": {
        "trusted": true
      }
    }
  ],
  "metadata": {
    "kernelspec": {
      "name": "python3",
      "display_name": "Python 3.9.2 64-bit",
      "metadata": {
        "interpreter": {
          "hash": "d1c9a4ba5c9c176023b797405478169ed7f0a7109b887eab21bda023c3c6f220"
        }
      }
    },
    "language_info": {
      "mimetype": "text/x-python",
      "nbconvert_exporter": "python",
      "name": "python",
      "pygments_lexer": "ipython3",
      "version": "3.9.2-final",
      "file_extension": ".py",
      "codemirror_mode": {
        "version": 3,
        "name": "ipython"
      }
    }
  },
  "nbformat": 4,
  "nbformat_minor": 2
}