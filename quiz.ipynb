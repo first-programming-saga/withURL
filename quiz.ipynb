{
  "cells": [
    {
      "attachments": {},
      "cell_type": "markdown",
      "metadata": {},
      "source": [
        "# 佐賀市の最高気温ページを分析"
      ]
    },
    {
      "cell_type": "code",
      "execution_count": 1,
      "metadata": {
        "trusted": true
      },
      "outputs": [],
      "source": [
        "import numpy\n",
        "import pandas\n",
        "import matplotlib.pyplot as plt\n",
        "import japanize_matplotlib\n",
        "import re"
      ]
    },
    {
      "cell_type": "code",
      "execution_count": 2,
      "metadata": {
        "trusted": true
      },
      "outputs": [],
      "source": [
        "url = 'http://www.data.jma.go.jp/obd/stats/etrn/view/monthly_s3.php?prec_no=85&block_no=47813&year=&month=&day=&elm=monthly&view=a2'"
      ]
    },
    {
      "cell_type": "code",
      "execution_count": 3,
      "metadata": {},
      "outputs": [],
      "source": [
        "pat = re.compile(r'([-]*\\d+\\.\\d*)\\D*')\n",
        "def cleanSeries(serIn:pandas.Series) -> pandas.Series:\n",
        "    \"\"\"\n",
        "    列データに含まれる、数値以外の文字を除く\n",
        "    \"\"\"\n",
        "    ser = serIn.copy()\n",
        "    for k in ser.index:\n",
        "        v = ser[k]\n",
        "        if type(v) is str:\n",
        "            m = pat.match(v)\n",
        "            if m:\n",
        "                v = m.group(1)\n",
        "        ser[k]=numpy.float64(v)\n",
        "    return ser"
      ]
    },
    {
      "cell_type": "code",
      "execution_count": 4,
      "metadata": {
        "tags": [],
        "trusted": true
      },
      "outputs": [
        {
          "data": {
            "image/png": "[encoded data removed]",
            "text/plain": [
              "<Figure size 432x288 with 1 Axes>"
            ]
          },
          "metadata": {},
          "output_type": "display_data"
        }
      ],
      "source": [
        "dataFrames = pandas.read_html(url)\n",
        "df = dataFrames[0].drop('年の値', axis = 'columns')\n",
        "df.set_index('年', inplace = True)\n",
        "\n",
        "fig, ax = plt.subplots(facecolor = 'w')\n",
        "ax.set_title('佐賀市の最高気温')\n",
        "ax.set_xlim(0, 11)\n",
        "ax.set_ylim(0, 40)\n",
        "ax.set_xlabel('月')\n",
        "ax.set_ylabel('気温(摂氏)')\n",
        "ax.set_xticks([x for x in range(12)])\n",
        "\n",
        "year = 2010\n",
        "ser = df.loc[year]\n",
        "ser = cleanSeries(ser)\n",
        "ser.plot(ax = ax, label = str(year), linewidth = 3)\n",
        "\n",
        "ax.legend(loc = 'best')\n",
        "plt.savefig('SagaTemperature.pdf')\n",
        "plt.show()"
      ]
    }
  ],
  "metadata": {
    "interpreter": {
      "hash": "8eac0b877443e672c512fc10f9a40a6551a41731384696f22385f08b2b6c8da7"
    },
    "kernelspec": {
      "display_name": "Python 3.9.4 64-bit ('3.9.4': pyenv)",
      "name": "python3"
    },
    "language_info": {
      "codemirror_mode": {
        "name": "ipython",
        "version": 3
      },
      "file_extension": ".py",
      "mimetype": "text/x-python",
      "name": "python",
      "nbconvert_exporter": "python",
      "pygments_lexer": "ipython3",
      "version": "3.9.9"
    }
  },
  "nbformat": 4,
  "nbformat_minor": 2
}
